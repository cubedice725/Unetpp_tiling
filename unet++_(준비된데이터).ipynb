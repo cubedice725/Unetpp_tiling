{
  "cells": [
    {
      "cell_type": "code",
      "execution_count": 1,
      "metadata": {
        "id": "JbVaMhd-hmf0"
      },
      "outputs": [
        {
          "name": "stdout",
          "output_type": "stream",
          "text": [
            "Device: cuda\n",
            "Current cuda device: 0\n",
            "Count of using GPUs: 2\n"
          ]
        }
      ],
      "source": [
        "import os\n",
        "import cv2\n",
        "import pandas as pd\n",
        "import numpy as np\n",
        "import time\n",
        "import torch\n",
        "import torch.nn as nn\n",
        "from torch.utils.data import Dataset, DataLoader\n",
        "from torchvision import transforms\n",
        "\n",
        "from tqdm import tqdm\n",
        "import albumentations as A\n",
        "from albumentations.pytorch import ToTensorV2\n",
        "\n",
        "# os.environ[\"CUDA_DEVICE_ORDER\"]=\"PCI_BUS_ID\"  # Arrange GPU devices starting from 0\n",
        "# os.environ[\"CUDA_VISIBLE_DEVICES\"]= \"2\"  # Set the GPU 2 to use\n",
        "\n",
        "device = torch.device(\"cuda\" if torch.cuda.is_available() else \"cpu\")\n",
        "\n",
        "print('Device:', device)\n",
        "print('Current cuda device:', torch.cuda.current_device())\n",
        "print('Count of using GPUs:', torch.cuda.device_count())"
      ]
    },
    {
      "cell_type": "code",
      "execution_count": 2,
      "metadata": {
        "id": "CDiVIwpGdIBj"
      },
      "outputs": [],
      "source": [
        "# RLE 디코딩 함수\n",
        "def rle_decode(mask_rle, shape):\n",
        "    s = mask_rle.split()\n",
        "    starts, lengths = [np.asarray(x, dtype=int) for x in (s[0:][::2], s[1:][::2])]\n",
        "    starts -= 1\n",
        "    ends = starts + lengths\n",
        "    img = np.zeros(shape[0]*shape[1], dtype=np.uint8)\n",
        "    for lo, hi in zip(starts, ends):\n",
        "        img[lo:hi] = 1\n",
        "    return img.reshape(shape)\n",
        "\n",
        "# RLE 인코딩 함수\n",
        "def rle_encode(mask):\n",
        "    pixels = mask.flatten()\n",
        "    pixels = np.concatenate([[0], pixels, [0]])\n",
        "    runs = np.where(pixels[1:] != pixels[:-1])[0] + 1\n",
        "    runs[1::2] -= runs[::2]\n",
        "    return ' '.join(str(x) for x in runs)"
      ]
    },
    {
      "cell_type": "code",
      "execution_count": 3,
      "metadata": {
        "colab": {
          "base_uri": "https://localhost:8080/"
        },
        "id": "6elfUD0sdLjj",
        "outputId": "4b5ebd10-f1ed-4aa1-ad2b-c47048d5b9ec"
      },
      "outputs": [
        {
          "name": "stdout",
          "output_type": "stream",
          "text": [
            "160650\n"
          ]
        }
      ],
      "source": [
        "class SatelliteDataset(Dataset):\n",
        "    def __init__(self, csv_file, transform=None, infer=False):\n",
        "        self.data = pd.read_csv(csv_file)\n",
        "        self.transform = transform\n",
        "        self.infer = infer\n",
        "\n",
        "    def __len__(self):\n",
        "        return len(self.data)\n",
        "\n",
        "    def __getitem__(self, idx):\n",
        "        img_path = self.data.iloc[idx, 1]\n",
        "        image = cv2.imread(img_path)\n",
        "        image = cv2.cvtColor(image, cv2.COLOR_BGR2RGB)\n",
        "\n",
        "        if self.infer:\n",
        "            if self.transform:\n",
        "                image = self.transform(image=image)['image']\n",
        "            return image\n",
        "\n",
        "        mask_rle = self.data.iloc[idx, 2]\n",
        "        if type(mask_rle) == str:\n",
        "            mask = rle_decode(mask_rle, (image.shape[0], image.shape[1]))\n",
        "        else:\n",
        "            mask = np.zeros((image.shape[0], image.shape[1]), np.uint8)\n",
        "\n",
        "        if self.transform:\n",
        "            augmented = self.transform(image=image, mask=mask)\n",
        "            image = augmented['image']\n",
        "            mask = augmented['mask']\n",
        "\n",
        "        return image, mask\n",
        "\n",
        "transform = A.Compose(\n",
        "    [\n",
        "        A.Normalize(),\n",
        "        ToTensorV2()\n",
        "    ]\n",
        ")\n",
        "\n",
        "dataset = SatelliteDataset(csv_file='./train_256+.csv', transform=transform)\n",
        "print(len(dataset))\n",
        "train_set, val_set = torch.utils.data.random_split(dataset, [128520,32130])\n",
        "train_dataloader = DataLoader(train_set, batch_size=8, shuffle=True, num_workers=0)\n",
        "val_dataloader = DataLoader(val_set, batch_size=8, shuffle=True, num_workers=0)\n",
        "del dataset\n"
      ]
    },
    {
      "cell_type": "code",
      "execution_count": 4,
      "metadata": {
        "colab": {
          "base_uri": "https://localhost:8080/"
        },
        "id": "grq3J3o1dOsb",
        "outputId": "1f778a85-3f0d-486f-ee50-ccd13ba15aa3"
      },
      "outputs": [],
      "source": [
        "class Unet_block(nn.Module):\n",
        "    def __init__(self, in_channels, mid_channels, out_channels):\n",
        "        super().__init__()\n",
        "        self.conv1 = nn.Conv2d(in_channels, mid_channels, kernel_size=3, stride=1, padding=1)\n",
        "        self.bn1 = nn.BatchNorm2d(mid_channels)\n",
        "        self.conv2 = nn.Conv2d(mid_channels, out_channels, kernel_size=3, stride=1, padding=1)\n",
        "        self.bn2 = nn.BatchNorm2d(out_channels)        \n",
        "        self.relu = nn.ReLU(inplace=True)\n",
        "\n",
        "    def forward(self, x):\n",
        "        out = self.conv1(x)\n",
        "        out = self.bn1(out)\n",
        "        out = self.relu(out)\n",
        "\n",
        "        out = self.conv2(out)\n",
        "        out = self.bn2(out)\n",
        "        out = self.relu(out)\n",
        "        return out\n",
        "\n",
        "class Nested_UNet(nn.Module):\n",
        "\n",
        "    def __init__(self, num_classes = 1, input_channels=3, deep_supervision=False):\n",
        "        super().__init__()\n",
        "\n",
        "        num_filter = [32, 64, 128, 256, 512, 768, 1024]\n",
        "        self.deep_supervision = deep_supervision\n",
        "        self.pool = nn.MaxPool2d(kernel_size=2, stride=2)\n",
        "        self.up = nn.Upsample(scale_factor=2, mode='bilinear', align_corners=True)\n",
        "        \n",
        "        # DownSampling\n",
        "        self.conv0_0 = Unet_block(input_channels, num_filter[0], num_filter[0])\n",
        "        self.conv1_0 = Unet_block(num_filter[0], num_filter[1], num_filter[1])\n",
        "        self.conv2_0 = Unet_block(num_filter[1], num_filter[2], num_filter[2])\n",
        "        self.conv3_0 = Unet_block(num_filter[2], num_filter[3], num_filter[3])\n",
        "        self.conv4_0 = Unet_block(num_filter[3], num_filter[4], num_filter[4])\n",
        "\n",
        "        # Upsampling & Dense skip\n",
        "        # N to 1 skip\n",
        "        self.conv0_1 = Unet_block(num_filter[0] + num_filter[1], num_filter[0], num_filter[0])\n",
        "        self.conv1_1 = Unet_block(num_filter[1] + num_filter[2], num_filter[1], num_filter[1])\n",
        "        self.conv2_1 = Unet_block(num_filter[2] + num_filter[3], num_filter[2], num_filter[2])\n",
        "        self.conv3_1 = Unet_block(num_filter[3] + num_filter[4], num_filter[3], num_filter[3])\n",
        "       \n",
        "        # N to 2 skip\n",
        "        self.conv0_2 = Unet_block(num_filter[0]*2 + num_filter[1], num_filter[0], num_filter[0])\n",
        "        self.conv1_2 = Unet_block(num_filter[1]*2 + num_filter[2], num_filter[1], num_filter[1])\n",
        "        self.conv2_2 = Unet_block(num_filter[2]*2 + num_filter[3], num_filter[2], num_filter[2])\n",
        "\n",
        "        # N to 3 skip\n",
        "        self.conv0_3 = Unet_block(num_filter[0]*3 + num_filter[1], num_filter[0], num_filter[0])\n",
        "        self.conv1_3 = Unet_block(num_filter[1]*3 + num_filter[2], num_filter[1], num_filter[1])\n",
        "\n",
        "        # N to 4 skip\n",
        "        self.conv0_4 = Unet_block(num_filter[0]*4 + num_filter[1], num_filter[0], num_filter[0])\n",
        "\n",
        "        if self.deep_supervision:\n",
        "            self.output1 = nn.Conv2d(num_filter[0], num_classes, kernel_size=1)\n",
        "            self.output2 = nn.Conv2d(num_filter[0], num_classes, kernel_size=1)\n",
        "            self.output3 = nn.Conv2d(num_filter[0], num_classes, kernel_size=1)\n",
        "            self.output4 = nn.Conv2d(num_filter[0], num_classes, kernel_size=1)\n",
        "\n",
        "        else:\n",
        "            self.output = nn.Conv2d(num_filter[0], num_classes, kernel_size=1)\n",
        "\n",
        "        # initialize weights\n",
        "        # for m in self.modules():\n",
        "        #     if isinstance(m, nn.Conv2d):\n",
        "        #         init_weights(m, init_type='kaiming')\n",
        "        #     elif isinstance(m, nn.BatchNorm2d):\n",
        "        #         init_weights(m, init_type='kaiming')\n",
        "\n",
        "\n",
        "    def forward(self, x):                    # (Batch, 3, 256, 256)\n",
        "\n",
        "        x0_0 = self.conv0_0(x)               \n",
        "        x1_0 = self.conv1_0(self.pool(x0_0))\n",
        "        x0_1 = self.conv0_1(torch.cat([x0_0, self.up(x1_0)], dim=1))\n",
        "        \n",
        "        x2_0 = self.conv2_0(self.pool(x1_0))\n",
        "        x1_1 = self.conv1_1(torch.cat([x1_0, self.up(x2_0)], dim=1))\n",
        "        x0_2 = self.conv0_2(torch.cat([x0_0, x0_1, self.up(x1_1)], dim=1))\n",
        "\n",
        "        x3_0 = self.conv3_0(self.pool(x2_0))\n",
        "        x2_1 = self.conv2_1(torch.cat([x2_0, self.up(x3_0)], dim=1))\n",
        "        x1_2 = self.conv1_2(torch.cat([x1_0, x1_1, self.up(x2_1)], dim=1))\n",
        "        x0_3 = self.conv0_3(torch.cat([x0_0, x0_1, x0_2, self.up(x1_2)], dim=1))\n",
        "\n",
        "        x4_0 = self.conv4_0(self.pool(x3_0))\n",
        "        x3_1 = self.conv3_1(torch.cat([x3_0, self.up(x4_0)], dim=1))\n",
        "        x2_2 = self.conv2_2(torch.cat([x2_0, x2_1, self.up(x3_1)], dim=1))\n",
        "        x1_3 = self.conv1_3(torch.cat([x1_0, x1_1, x1_2, self.up(x2_2)], dim=1))\n",
        "        x0_4 = self.conv0_4(torch.cat([x0_0, x0_1, x0_2, x0_3, self.up(x1_3)], dim=1))\n",
        "\n",
        "        if self.deep_supervision:\n",
        "            output1 = self.output1(x0_1)\n",
        "            output2 = self.output2(x0_2)\n",
        "            output3 = self.output3(x0_3)\n",
        "            output4 = self.output4(x0_4)\n",
        "            output = (output1 + output2 + output3 + output4) / 4\n",
        "        else:\n",
        "            output = self.output(x0_4)\n",
        "\n",
        "        return output"
      ]
    },
    {
      "cell_type": "code",
      "execution_count": 5,
      "metadata": {},
      "outputs": [],
      "source": [
        "class DiceLoss(nn.Module):\n",
        "    def __init__(self):\n",
        "        super(DiceLoss, self).__init__()\n",
        "\n",
        "    def forward(self, inputs, targets, smooth=1):\n",
        "        \n",
        "        inputs = torch.nn.functional.sigmoid(inputs) # sigmoid를 통과한 출력이면 주석처리\n",
        "        \n",
        "        inputs = inputs.view(-1)\n",
        "        targets = targets.view(-1)\n",
        "        \n",
        "        intersection = (inputs * targets).sum()                            \n",
        "        dice = (2.*intersection + smooth) / (inputs.sum() + targets.sum() + smooth)  \n",
        "        \n",
        "        return 1 - dice "
      ]
    },
    {
      "cell_type": "code",
      "execution_count": 6,
      "metadata": {
        "id": "by_WpelOddPM"
      },
      "outputs": [],
      "source": [
        "model = Nested_UNet().to(device)\n",
        "\n",
        "# loss function과 optimizer 정의\n",
        "criterion = DiceLoss()\n",
        "optimizer = torch.optim.Adam(model.parameters(), lr=0.00001)\n"
      ]
    },
    {
      "cell_type": "code",
      "execution_count": 7,
      "metadata": {
        "colab": {
          "background_save": true,
          "base_uri": "https://localhost:8080/"
        },
        "id": "aiNlBylwdfJb",
        "outputId": "eb68fd74-6333-45a9-ddd3-737b3ee5183b"
      },
      "outputs": [
        {
          "name": "stderr",
          "output_type": "stream",
          "text": [
            "100%|██████████| 16065/16065 [46:32<00:00,  5.75it/s]\n",
            "100%|██████████| 4017/4017 [05:08<00:00, 13.00it/s]\n"
          ]
        },
        {
          "name": "stdout",
          "output_type": "stream",
          "text": [
            "Best model saved at epoch 0\n",
            "EPOCH: 0\n",
            "Mean loss: 0.6066510289285993\n",
            "Valid_Mean_loss: 0.4245412319727967\n"
          ]
        },
        {
          "name": "stderr",
          "output_type": "stream",
          "text": [
            "100%|██████████| 16065/16065 [41:41<00:00,  6.42it/s]\n",
            "100%|██████████| 4017/4017 [03:56<00:00, 17.01it/s]\n"
          ]
        },
        {
          "name": "stdout",
          "output_type": "stream",
          "text": [
            "Best model saved at epoch 1\n",
            "EPOCH: 1\n",
            "Mean loss: 0.3167151631501617\n",
            "Valid_Mean_loss: 0.254840088671109\n"
          ]
        },
        {
          "name": "stderr",
          "output_type": "stream",
          "text": [
            "100%|██████████| 16065/16065 [41:35<00:00,  6.44it/s]\n",
            "100%|██████████| 4017/4017 [03:57<00:00, 16.89it/s]\n"
          ]
        },
        {
          "name": "stdout",
          "output_type": "stream",
          "text": [
            "Best model saved at epoch 2\n",
            "EPOCH: 2\n",
            "Mean loss: 0.22827431687379676\n",
            "Valid_Mean_loss: 0.2072008716576367\n"
          ]
        },
        {
          "name": "stderr",
          "output_type": "stream",
          "text": [
            "100%|██████████| 16065/16065 [41:37<00:00,  6.43it/s]\n",
            "100%|██████████| 4017/4017 [03:57<00:00, 16.92it/s]\n"
          ]
        },
        {
          "name": "stdout",
          "output_type": "stream",
          "text": [
            "Best model saved at epoch 3\n",
            "EPOCH: 3\n",
            "Mean loss: 0.2078226339323588\n",
            "Valid_Mean_loss: 0.19930533651157728\n"
          ]
        },
        {
          "name": "stderr",
          "output_type": "stream",
          "text": [
            "100%|██████████| 16065/16065 [41:54<00:00,  6.39it/s]\n",
            "100%|██████████| 4017/4017 [04:01<00:00, 16.60it/s]\n"
          ]
        },
        {
          "name": "stdout",
          "output_type": "stream",
          "text": [
            "Best model saved at epoch 4\n",
            "EPOCH: 4\n",
            "Mean loss: 0.1965495870115599\n",
            "Valid_Mean_loss: 0.19121454706944604\n"
          ]
        },
        {
          "name": "stderr",
          "output_type": "stream",
          "text": [
            "100%|██████████| 16065/16065 [41:57<00:00,  6.38it/s]\n",
            "100%|██████████| 4017/4017 [03:57<00:00, 16.93it/s]\n"
          ]
        },
        {
          "name": "stdout",
          "output_type": "stream",
          "text": [
            "Best model saved at epoch 5\n",
            "EPOCH: 5\n",
            "Mean loss: 0.18685742962074695\n",
            "Valid_Mean_loss: 0.18893266783622417\n"
          ]
        },
        {
          "name": "stderr",
          "output_type": "stream",
          "text": [
            "100%|██████████| 16065/16065 [41:38<00:00,  6.43it/s]\n",
            "100%|██████████| 4017/4017 [03:58<00:00, 16.86it/s]\n"
          ]
        },
        {
          "name": "stdout",
          "output_type": "stream",
          "text": [
            "Best model saved at epoch 6\n",
            "EPOCH: 6\n",
            "Mean loss: 0.18012713232479696\n",
            "Valid_Mean_loss: 0.17966746065727596\n"
          ]
        },
        {
          "name": "stderr",
          "output_type": "stream",
          "text": [
            "100%|██████████| 16065/16065 [41:46<00:00,  6.41it/s]\n",
            "100%|██████████| 4017/4017 [03:57<00:00, 16.93it/s]\n"
          ]
        },
        {
          "name": "stdout",
          "output_type": "stream",
          "text": [
            "Best model saved at epoch 7\n",
            "EPOCH: 7\n",
            "Mean loss: 0.17419991351123765\n",
            "Valid_Mean_loss: 0.1756040692062321\n"
          ]
        },
        {
          "name": "stderr",
          "output_type": "stream",
          "text": [
            "100%|██████████| 16065/16065 [41:42<00:00,  6.42it/s]\n",
            "100%|██████████| 4017/4017 [03:57<00:00, 16.93it/s]\n"
          ]
        },
        {
          "name": "stdout",
          "output_type": "stream",
          "text": [
            "Best model saved at epoch 8\n",
            "EPOCH: 8\n",
            "Mean loss: 0.16873857148369636\n",
            "Valid_Mean_loss: 0.17437919331095483\n"
          ]
        },
        {
          "name": "stderr",
          "output_type": "stream",
          "text": [
            "100%|██████████| 16065/16065 [41:42<00:00,  6.42it/s]\n",
            "100%|██████████| 4017/4017 [03:56<00:00, 16.99it/s]\n"
          ]
        },
        {
          "name": "stdout",
          "output_type": "stream",
          "text": [
            "Best model saved at epoch 9\n",
            "EPOCH: 9\n",
            "Mean loss: 0.1640653951569506\n",
            "Valid_Mean_loss: 0.17003558769373267\n"
          ]
        },
        {
          "name": "stderr",
          "output_type": "stream",
          "text": [
            "100%|██████████| 16065/16065 [41:43<00:00,  6.42it/s]\n",
            "100%|██████████| 4017/4017 [03:58<00:00, 16.86it/s]\n"
          ]
        },
        {
          "name": "stdout",
          "output_type": "stream",
          "text": [
            "Best model saved at epoch 10\n",
            "EPOCH: 10\n",
            "Mean loss: 0.15965330495368346\n",
            "Valid_Mean_loss: 0.16527684583039554\n"
          ]
        },
        {
          "name": "stderr",
          "output_type": "stream",
          "text": [
            "100%|██████████| 16065/16065 [41:45<00:00,  6.41it/s]\n",
            "100%|██████████| 4017/4017 [03:56<00:00, 16.95it/s]\n"
          ]
        },
        {
          "name": "stdout",
          "output_type": "stream",
          "text": [
            "EPOCH: 11\n",
            "Mean loss: 0.15625512438550607\n",
            "Valid_Mean_loss: 0.1675779360842877\n"
          ]
        },
        {
          "name": "stderr",
          "output_type": "stream",
          "text": [
            "100%|██████████| 16065/16065 [41:41<00:00,  6.42it/s]\n",
            "100%|██████████| 4017/4017 [03:58<00:00, 16.87it/s]\n"
          ]
        },
        {
          "name": "stdout",
          "output_type": "stream",
          "text": [
            "EPOCH: 12\n",
            "Mean loss: 0.1528054823431685\n",
            "Valid_Mean_loss: 0.16688952153376568\n"
          ]
        },
        {
          "name": "stderr",
          "output_type": "stream",
          "text": [
            "100%|██████████| 16065/16065 [41:45<00:00,  6.41it/s]\n",
            "100%|██████████| 4017/4017 [03:58<00:00, 16.88it/s]\n"
          ]
        },
        {
          "name": "stdout",
          "output_type": "stream",
          "text": [
            "Best model saved at epoch 13\n",
            "EPOCH: 13\n",
            "Mean loss: 0.14994244372180568\n",
            "Valid_Mean_loss: 0.16024032267047483\n"
          ]
        },
        {
          "name": "stderr",
          "output_type": "stream",
          "text": [
            "100%|██████████| 16065/16065 [41:38<00:00,  6.43it/s]\n",
            "100%|██████████| 4017/4017 [03:57<00:00, 16.88it/s]\n"
          ]
        },
        {
          "name": "stdout",
          "output_type": "stream",
          "text": [
            "Best model saved at epoch 14\n",
            "EPOCH: 14\n",
            "Mean loss: 0.14653893081413932\n",
            "Valid_Mean_loss: 0.1597843610560802\n"
          ]
        },
        {
          "name": "stderr",
          "output_type": "stream",
          "text": [
            "100%|██████████| 16065/16065 [41:35<00:00,  6.44it/s]\n",
            "100%|██████████| 4017/4017 [03:55<00:00, 17.03it/s]\n"
          ]
        },
        {
          "name": "stdout",
          "output_type": "stream",
          "text": [
            "EPOCH: 15\n",
            "Mean loss: 0.14442350951600513\n",
            "Valid_Mean_loss: 0.16219736911302662\n"
          ]
        },
        {
          "name": "stderr",
          "output_type": "stream",
          "text": [
            "100%|██████████| 16065/16065 [41:37<00:00,  6.43it/s]\n",
            "100%|██████████| 4017/4017 [03:58<00:00, 16.87it/s]\n"
          ]
        },
        {
          "name": "stdout",
          "output_type": "stream",
          "text": [
            "Best model saved at epoch 16\n",
            "EPOCH: 16\n",
            "Mean loss: 0.1417384308407769\n",
            "Valid_Mean_loss: 0.15628212536037162\n"
          ]
        },
        {
          "name": "stderr",
          "output_type": "stream",
          "text": [
            "100%|██████████| 16065/16065 [41:37<00:00,  6.43it/s]\n",
            "100%|██████████| 4017/4017 [03:56<00:00, 16.96it/s]\n"
          ]
        },
        {
          "name": "stdout",
          "output_type": "stream",
          "text": [
            "EPOCH: 17\n",
            "Mean loss: 0.13971944998403668\n",
            "Valid_Mean_loss: 0.15844019022574315\n"
          ]
        },
        {
          "name": "stderr",
          "output_type": "stream",
          "text": [
            "100%|██████████| 16065/16065 [41:47<00:00,  6.41it/s] \n",
            "100%|██████████| 4017/4017 [04:00<00:00, 16.69it/s]\n"
          ]
        },
        {
          "name": "stdout",
          "output_type": "stream",
          "text": [
            "Best model saved at epoch 18\n",
            "EPOCH: 18\n",
            "Mean loss: 0.13799907216170923\n",
            "Valid_Mean_loss: 0.15462731273428906\n"
          ]
        },
        {
          "name": "stderr",
          "output_type": "stream",
          "text": [
            "100%|██████████| 16065/16065 [41:57<00:00,  6.38it/s]\n",
            "100%|██████████| 4017/4017 [03:59<00:00, 16.76it/s]\n"
          ]
        },
        {
          "name": "stdout",
          "output_type": "stream",
          "text": [
            "EPOCH: 19\n",
            "Mean loss: 0.1354704068154514\n",
            "Valid_Mean_loss: 0.15733868371855717\n"
          ]
        },
        {
          "name": "stderr",
          "output_type": "stream",
          "text": [
            "100%|██████████| 16065/16065 [41:43<00:00,  6.42it/s]\n",
            "100%|██████████| 4017/4017 [03:56<00:00, 17.00it/s]\n"
          ]
        },
        {
          "name": "stdout",
          "output_type": "stream",
          "text": [
            "EPOCH: 20\n",
            "Mean loss: 0.13297428570912703\n",
            "Valid_Mean_loss: 0.16023509261143395\n"
          ]
        },
        {
          "name": "stderr",
          "output_type": "stream",
          "text": [
            "100%|██████████| 16065/16065 [41:44<00:00,  6.42it/s]\n",
            "100%|██████████| 4017/4017 [03:58<00:00, 16.87it/s]\n"
          ]
        },
        {
          "name": "stdout",
          "output_type": "stream",
          "text": [
            "Best model saved at epoch 21\n",
            "EPOCH: 21\n",
            "Mean loss: 0.13095339430183628\n",
            "Valid_Mean_loss: 0.15146355086486377\n"
          ]
        },
        {
          "name": "stderr",
          "output_type": "stream",
          "text": [
            "100%|██████████| 16065/16065 [41:43<00:00,  6.42it/s]\n",
            "100%|██████████| 4017/4017 [03:56<00:00, 17.01it/s]\n"
          ]
        },
        {
          "name": "stdout",
          "output_type": "stream",
          "text": [
            "EPOCH: 22\n",
            "Mean loss: 0.12902688105233243\n",
            "Valid_Mean_loss: 0.15177019211615025\n"
          ]
        },
        {
          "name": "stderr",
          "output_type": "stream",
          "text": [
            "100%|██████████| 16065/16065 [41:44<00:00,  6.41it/s]\n",
            "100%|██████████| 4017/4017 [03:58<00:00, 16.85it/s]\n"
          ]
        },
        {
          "name": "stdout",
          "output_type": "stream",
          "text": [
            "Best model saved at epoch 23\n",
            "EPOCH: 23\n",
            "Mean loss: 0.12731109608603608\n",
            "Valid_Mean_loss: 0.1500569918513565\n"
          ]
        },
        {
          "name": "stderr",
          "output_type": "stream",
          "text": [
            "100%|██████████| 16065/16065 [41:48<00:00,  6.41it/s]\n",
            "100%|██████████| 4017/4017 [03:55<00:00, 17.03it/s]\n"
          ]
        },
        {
          "name": "stdout",
          "output_type": "stream",
          "text": [
            "EPOCH: 24\n",
            "Mean loss: 0.12583067027571934\n",
            "Valid_Mean_loss: 0.15244090080795403\n"
          ]
        },
        {
          "name": "stderr",
          "output_type": "stream",
          "text": [
            "100%|██████████| 16065/16065 [41:46<00:00,  6.41it/s]\n",
            "100%|██████████| 4017/4017 [04:06<00:00, 16.32it/s]\n"
          ]
        },
        {
          "name": "stdout",
          "output_type": "stream",
          "text": [
            "Best model saved at epoch 25\n",
            "EPOCH: 25\n",
            "Mean loss: 0.12451154969022758\n",
            "Valid_Mean_loss: 0.14840445672513122\n"
          ]
        },
        {
          "name": "stderr",
          "output_type": "stream",
          "text": [
            "100%|██████████| 16065/16065 [41:45<00:00,  6.41it/s]\n",
            "100%|██████████| 4017/4017 [03:57<00:00, 16.89it/s]\n"
          ]
        },
        {
          "name": "stdout",
          "output_type": "stream",
          "text": [
            "Best model saved at epoch 26\n",
            "EPOCH: 26\n",
            "Mean loss: 0.12261471816249032\n",
            "Valid_Mean_loss: 0.1473381683130243\n"
          ]
        },
        {
          "name": "stderr",
          "output_type": "stream",
          "text": [
            "100%|██████████| 16065/16065 [41:44<00:00,  6.41it/s]\n",
            "100%|██████████| 4017/4017 [03:57<00:00, 16.92it/s]\n"
          ]
        },
        {
          "name": "stdout",
          "output_type": "stream",
          "text": [
            "Best model saved at epoch 27\n",
            "EPOCH: 27\n",
            "Mean loss: 0.12137613236032244\n",
            "Valid_Mean_loss: 0.14492709079665986\n"
          ]
        },
        {
          "name": "stderr",
          "output_type": "stream",
          "text": [
            "100%|██████████| 16065/16065 [41:42<00:00,  6.42it/s]\n",
            "100%|██████████| 4017/4017 [03:57<00:00, 16.94it/s]\n"
          ]
        },
        {
          "name": "stdout",
          "output_type": "stream",
          "text": [
            "EPOCH: 28\n",
            "Mean loss: 0.11978636967442023\n",
            "Valid_Mean_loss: 0.15124502615576096\n"
          ]
        },
        {
          "name": "stderr",
          "output_type": "stream",
          "text": [
            "100%|██████████| 16065/16065 [41:46<00:00,  6.41it/s]\n",
            "100%|██████████| 4017/4017 [03:58<00:00, 16.82it/s]\n"
          ]
        },
        {
          "name": "stdout",
          "output_type": "stream",
          "text": [
            "EPOCH: 29\n",
            "Mean loss: 0.1183712191868155\n",
            "Valid_Mean_loss: 0.1458763404512156\n"
          ]
        },
        {
          "name": "stderr",
          "output_type": "stream",
          "text": [
            "100%|██████████| 16065/16065 [41:45<00:00,  6.41it/s] \n",
            "100%|██████████| 4017/4017 [03:56<00:00, 16.98it/s]\n"
          ]
        },
        {
          "name": "stdout",
          "output_type": "stream",
          "text": [
            "EPOCH: 30\n",
            "Mean loss: 0.11745258302210723\n",
            "Valid_Mean_loss: 0.1475872447575566\n"
          ]
        },
        {
          "name": "stderr",
          "output_type": "stream",
          "text": [
            "100%|██████████| 16065/16065 [41:42<00:00,  6.42it/s]\n",
            "100%|██████████| 4017/4017 [03:58<00:00, 16.86it/s]\n"
          ]
        },
        {
          "name": "stdout",
          "output_type": "stream",
          "text": [
            "Best model saved at epoch 31\n",
            "EPOCH: 31\n",
            "Mean loss: 0.1159833147709072\n",
            "Valid_Mean_loss: 0.14418926027125614\n"
          ]
        },
        {
          "name": "stderr",
          "output_type": "stream",
          "text": [
            "100%|██████████| 16065/16065 [41:42<00:00,  6.42it/s]\n",
            "100%|██████████| 4017/4017 [03:57<00:00, 16.93it/s]\n"
          ]
        },
        {
          "name": "stdout",
          "output_type": "stream",
          "text": [
            "Best model saved at epoch 32\n",
            "EPOCH: 32\n",
            "Mean loss: 0.11482926004221608\n",
            "Valid_Mean_loss: 0.14408484964130944\n"
          ]
        },
        {
          "name": "stderr",
          "output_type": "stream",
          "text": [
            "100%|██████████| 16065/16065 [41:41<00:00,  6.42it/s]\n",
            "100%|██████████| 4017/4017 [03:57<00:00, 16.89it/s]\n"
          ]
        },
        {
          "name": "stdout",
          "output_type": "stream",
          "text": [
            "Best model saved at epoch 33\n",
            "EPOCH: 33\n",
            "Mean loss: 0.11341478425025049\n",
            "Valid_Mean_loss: 0.14264913732387666\n"
          ]
        },
        {
          "name": "stderr",
          "output_type": "stream",
          "text": [
            "100%|██████████| 16065/16065 [41:40<00:00,  6.43it/s]\n",
            "100%|██████████| 4017/4017 [03:57<00:00, 16.93it/s]\n"
          ]
        },
        {
          "name": "stdout",
          "output_type": "stream",
          "text": [
            "Best model saved at epoch 34\n",
            "EPOCH: 34\n",
            "Mean loss: 0.11269433195628817\n",
            "Valid_Mean_loss: 0.14141660906469047\n"
          ]
        },
        {
          "name": "stderr",
          "output_type": "stream",
          "text": [
            "100%|██████████| 16065/16065 [41:44<00:00,  6.41it/s]\n",
            "100%|██████████| 4017/4017 [03:57<00:00, 16.91it/s]\n"
          ]
        },
        {
          "name": "stdout",
          "output_type": "stream",
          "text": [
            "Best model saved at epoch 35\n",
            "EPOCH: 35\n",
            "Mean loss: 0.11143487480396873\n",
            "Valid_Mean_loss: 0.1412051581968441\n"
          ]
        },
        {
          "name": "stderr",
          "output_type": "stream",
          "text": [
            "100%|██████████| 16065/16065 [41:42<00:00,  6.42it/s]\n",
            "100%|██████████| 4017/4017 [03:56<00:00, 17.02it/s]\n"
          ]
        },
        {
          "name": "stdout",
          "output_type": "stream",
          "text": [
            "EPOCH: 36\n",
            "Mean loss: 0.1099494730539497\n",
            "Valid_Mean_loss: 0.14794248280194022\n"
          ]
        },
        {
          "name": "stderr",
          "output_type": "stream",
          "text": [
            "100%|██████████| 16065/16065 [41:50<00:00,  6.40it/s]\n",
            "100%|██████████| 4017/4017 [03:59<00:00, 16.74it/s]\n"
          ]
        },
        {
          "name": "stdout",
          "output_type": "stream",
          "text": [
            "EPOCH: 37\n",
            "Mean loss: 0.1091889329910872\n",
            "Valid_Mean_loss: 0.14248959812501902\n"
          ]
        },
        {
          "name": "stderr",
          "output_type": "stream",
          "text": [
            "100%|██████████| 16065/16065 [41:42<00:00,  6.42it/s]\n",
            "100%|██████████| 4017/4017 [03:56<00:00, 16.97it/s]\n"
          ]
        },
        {
          "name": "stdout",
          "output_type": "stream",
          "text": [
            "Best model saved at epoch 38\n",
            "EPOCH: 38\n",
            "Mean loss: 0.10827043445318835\n",
            "Valid_Mean_loss: 0.14043823443214068\n"
          ]
        },
        {
          "name": "stderr",
          "output_type": "stream",
          "text": [
            "100%|██████████| 16065/16065 [41:35<00:00,  6.44it/s]\n",
            "100%|██████████| 4017/4017 [03:58<00:00, 16.87it/s]\n"
          ]
        },
        {
          "name": "stdout",
          "output_type": "stream",
          "text": [
            "Best model saved at epoch 39\n",
            "EPOCH: 39\n",
            "Mean loss: 0.10690576400557968\n",
            "Valid_Mean_loss: 0.13976873442222743\n"
          ]
        },
        {
          "name": "stderr",
          "output_type": "stream",
          "text": [
            "100%|██████████| 16065/16065 [41:37<00:00,  6.43it/s]\n",
            "100%|██████████| 4017/4017 [03:57<00:00, 16.94it/s]\n"
          ]
        },
        {
          "name": "stdout",
          "output_type": "stream",
          "text": [
            "EPOCH: 40\n",
            "Mean loss: 0.10606873482512122\n",
            "Valid_Mean_loss: 0.14327407110262666\n"
          ]
        },
        {
          "name": "stderr",
          "output_type": "stream",
          "text": [
            "100%|██████████| 16065/16065 [41:33<00:00,  6.44it/s]\n",
            "100%|██████████| 4017/4017 [03:56<00:00, 16.95it/s]\n"
          ]
        },
        {
          "name": "stdout",
          "output_type": "stream",
          "text": [
            "Best model saved at epoch 41\n",
            "EPOCH: 41\n",
            "Mean loss: 0.10529806399100523\n",
            "Valid_Mean_loss: 0.13973029939755\n"
          ]
        },
        {
          "name": "stderr",
          "output_type": "stream",
          "text": [
            "100%|██████████| 16065/16065 [41:32<00:00,  6.45it/s]\n",
            "100%|██████████| 4017/4017 [03:55<00:00, 17.03it/s]\n"
          ]
        },
        {
          "name": "stdout",
          "output_type": "stream",
          "text": [
            "Best model saved at epoch 42\n",
            "EPOCH: 42\n",
            "Mean loss: 0.10398142804915461\n",
            "Valid_Mean_loss: 0.13914746666298833\n"
          ]
        },
        {
          "name": "stderr",
          "output_type": "stream",
          "text": [
            "100%|██████████| 16065/16065 [41:34<00:00,  6.44it/s]\n",
            "100%|██████████| 4017/4017 [03:57<00:00, 16.93it/s]\n"
          ]
        },
        {
          "name": "stdout",
          "output_type": "stream",
          "text": [
            "Best model saved at epoch 43\n",
            "EPOCH: 43\n",
            "Mean loss: 0.10368929277726359\n",
            "Valid_Mean_loss: 0.13719912275082144\n"
          ]
        },
        {
          "name": "stderr",
          "output_type": "stream",
          "text": [
            "100%|██████████| 16065/16065 [41:33<00:00,  6.44it/s]\n",
            "100%|██████████| 4017/4017 [03:57<00:00, 16.93it/s]\n"
          ]
        },
        {
          "name": "stdout",
          "output_type": "stream",
          "text": [
            "EPOCH: 44\n",
            "Mean loss: 0.10263019084856216\n",
            "Valid_Mean_loss: 0.1384660553392083\n"
          ]
        },
        {
          "name": "stderr",
          "output_type": "stream",
          "text": [
            "100%|██████████| 16065/16065 [41:38<00:00,  6.43it/s]\n",
            "100%|██████████| 4017/4017 [03:58<00:00, 16.84it/s]\n"
          ]
        },
        {
          "name": "stdout",
          "output_type": "stream",
          "text": [
            "Best model saved at epoch 45\n",
            "EPOCH: 45\n",
            "Mean loss: 0.10132894620248324\n",
            "Valid_Mean_loss: 0.1371867954360035\n"
          ]
        },
        {
          "name": "stderr",
          "output_type": "stream",
          "text": [
            "100%|██████████| 16065/16065 [41:35<00:00,  6.44it/s]\n",
            "100%|██████████| 4017/4017 [03:56<00:00, 16.97it/s]\n"
          ]
        },
        {
          "name": "stdout",
          "output_type": "stream",
          "text": [
            "EPOCH: 46\n",
            "Mean loss: 0.10025856605468048\n",
            "Valid_Mean_loss: 0.13946346646670474\n"
          ]
        },
        {
          "name": "stderr",
          "output_type": "stream",
          "text": [
            "100%|██████████| 16065/16065 [41:37<00:00,  6.43it/s]\n",
            "100%|██████████| 4017/4017 [03:58<00:00, 16.86it/s]\n"
          ]
        },
        {
          "name": "stdout",
          "output_type": "stream",
          "text": [
            "EPOCH: 47\n",
            "Mean loss: 0.09961202254816263\n",
            "Valid_Mean_loss: 0.137996917314603\n"
          ]
        },
        {
          "name": "stderr",
          "output_type": "stream",
          "text": [
            "100%|██████████| 16065/16065 [41:38<00:00,  6.43it/s]\n",
            "100%|██████████| 4017/4017 [03:56<00:00, 16.98it/s]\n"
          ]
        },
        {
          "name": "stdout",
          "output_type": "stream",
          "text": [
            "EPOCH: 48\n",
            "Mean loss: 0.09907008446973319\n",
            "Valid_Mean_loss: 0.14000851553947083\n"
          ]
        },
        {
          "name": "stderr",
          "output_type": "stream",
          "text": [
            "100%|██████████| 16065/16065 [41:35<00:00,  6.44it/s]\n",
            "100%|██████████| 4017/4017 [03:57<00:00, 16.90it/s]\n"
          ]
        },
        {
          "name": "stdout",
          "output_type": "stream",
          "text": [
            "Best model saved at epoch 49\n",
            "EPOCH: 49\n",
            "Mean loss: 0.09803181461111021\n",
            "Valid_Mean_loss: 0.13544352678686403\n"
          ]
        },
        {
          "name": "stderr",
          "output_type": "stream",
          "text": [
            "100%|██████████| 16065/16065 [41:38<00:00,  6.43it/s]\n",
            "100%|██████████| 4017/4017 [03:57<00:00, 16.93it/s]"
          ]
        },
        {
          "name": "stdout",
          "output_type": "stream",
          "text": [
            "EPOCH: 50\n",
            "Mean loss: 0.09709518626958383\n",
            "Valid_Mean_loss: 0.13663760472329245\n"
          ]
        },
        {
          "name": "stderr",
          "output_type": "stream",
          "text": [
            "\n"
          ]
        }
      ],
      "source": [
        "# training loop\n",
        "folder = 'unet++_256+'\n",
        "timestamp = time.time()\n",
        "It = time.localtime(timestamp)\n",
        "formatted = time.strftime(\"%m%d_%H_%M_%S\", It)\n",
        "path = os.path.join(folder, formatted)\n",
        "os.makedirs(path)\n",
        "best_loss = 1\n",
        "# model.load_state_dict(torch.load('unet++_saved_weights_256_Dice\\\\0722_17_44_52\\\\best_model_epoch45_loss_0.16985569155516744.pth'))\n",
        "\n",
        "for epoch in range(51):  # 10 에폭 동안 학습합니다.\n",
        "    epoch_losses = []\n",
        "    model.train()\n",
        "    epoch_loss = 0\n",
        "    for images, masks in tqdm(train_dataloader):\n",
        "        images = images.float().to(device)\n",
        "        masks = masks.float().to(device)\n",
        "\n",
        "        optimizer.zero_grad()\n",
        "        outputs = model(images)\n",
        "        loss = criterion(outputs, masks.unsqueeze(1))\n",
        "        loss.backward()\n",
        "        optimizer.step()\n",
        "\n",
        "        epoch_loss += loss.item()\n",
        "        epoch_losses.append(loss.item())\n",
        "    \n",
        "    valid_epoch_losses = []\n",
        "    model.eval()\n",
        "\n",
        "    with torch.no_grad():\n",
        "        for images, masks in tqdm(val_dataloader):\n",
        "\n",
        "            images = images.float().to(device)\n",
        "            masks = masks.float().to(device)\n",
        "\n",
        "            outputs = model(images)\n",
        "            \n",
        "            valid_loss = criterion(outputs, masks.unsqueeze(1))\n",
        "            valid_epoch_losses.append(valid_loss.item())\n",
        "        \n",
        "    \n",
        "    if np.mean(valid_epoch_losses) < best_loss:\n",
        "        best_loss = np.mean(valid_epoch_losses)\n",
        "        saved_path = os.path.join(path,'best_model_epoch{0}_loss_{1}.pth'.format(epoch+1, np.mean(valid_epoch_losses)))\n",
        "        torch.save(model.state_dict(), saved_path)\n",
        "        print(\"Best model saved at epoch\", epoch)\n",
        "    \n",
        "\n",
        "    print(f'EPOCH: {epoch}')\n",
        "    print(f'Mean loss: {np.mean(epoch_losses)}')\n",
        "    print(f'Valid_Mean_loss: {np.mean(valid_epoch_losses)}')\n"
      ]
    },
    {
      "cell_type": "code",
      "execution_count": 8,
      "metadata": {
        "colab": {
          "background_save": true
        },
        "id": "NBZmQTL-diSW",
        "outputId": "c6c475e6-537c-48a8-b8b0-b58f43be49cf"
      },
      "outputs": [],
      "source": [
        "test_dataset = SatelliteDataset(csv_file='./test.csv', transform=transform, infer=True)\n",
        "test_dataloader = DataLoader(test_dataset, batch_size=4, shuffle=False, num_workers=0)"
      ]
    },
    {
      "cell_type": "code",
      "execution_count": 9,
      "metadata": {},
      "outputs": [],
      "source": [
        "#model.load_state_dict(torch.load(\"unet++_512+\\\\0819_11_34_27\\\\best_model_epoch51_loss_0.10628819498613497.pth\"))"
      ]
    },
    {
      "cell_type": "code",
      "execution_count": 10,
      "metadata": {
        "colab": {
          "background_save": true
        },
        "id": "xP8WlSqijjMs",
        "outputId": "91abc94b-c688-4a93-d086-c2077d912735"
      },
      "outputs": [
        {
          "name": "stderr",
          "output_type": "stream",
          "text": [
            "100%|██████████| 179/179 [01:18<00:00,  2.27it/s]\n"
          ]
        }
      ],
      "source": [
        "with torch.no_grad():\n",
        "    model.eval()\n",
        "    result = []\n",
        "    for images in tqdm(test_dataloader):\n",
        "        images = images.float().to(device)\n",
        "\n",
        "        outputs = model(images)\n",
        "        masks = torch.sigmoid(outputs).cpu().numpy()\n",
        "        masks = np.squeeze(masks, axis=1)\n",
        "        masks = (masks > 0.35).astype(np.uint8) # Threshold = 0.35\n",
        "\n",
        "        for i in range(len(images)):\n",
        "            mask_rle = rle_encode(masks[i])\n",
        "            if mask_rle == '': # 예측된 건물 픽셀이 아예 없는 경우 -1\n",
        "                result.append(-1)\n",
        "            else:\n",
        "                result.append(mask_rle)\n",
        "\n",
        "submit = pd.read_csv('./sample_submission.csv')\n",
        "submit['mask_rle'] = result\n",
        "\n",
        "submit.to_csv('./submit.csv', index=False)"
      ]
    }
  ],
  "metadata": {
    "colab": {
      "provenance": []
    },
    "kernelspec": {
      "display_name": "Python 3",
      "name": "python3"
    },
    "language_info": {
      "codemirror_mode": {
        "name": "ipython",
        "version": 3
      },
      "file_extension": ".py",
      "mimetype": "text/x-python",
      "name": "python",
      "nbconvert_exporter": "python",
      "pygments_lexer": "ipython3",
      "version": "3.9.13"
    }
  },
  "nbformat": 4,
  "nbformat_minor": 0
}
