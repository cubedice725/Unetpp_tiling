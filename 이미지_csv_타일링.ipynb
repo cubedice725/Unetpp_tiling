{
 "cells": [
  {
   "cell_type": "code",
   "execution_count": 9,
   "metadata": {},
   "outputs": [],
   "source": [
    "import cv2\n",
    "import os\n",
    "import numpy as np\n",
    "import pandas as pd\n",
    "import csv\n",
    "from tqdm import tqdm"
   ]
  },
  {
   "cell_type": "code",
   "execution_count": 10,
   "metadata": {},
   "outputs": [],
   "source": [
    "# RLE 디코딩 함수\n",
    "def rle_decode(mask_rle, shape):\n",
    "    s = mask_rle.split()\n",
    "    starts, lengths = [np.asarray(x, dtype=int) for x in (s[0:][::2], s[1:][::2])]\n",
    "    starts -= 1\n",
    "    ends = starts + lengths\n",
    "    img = np.zeros(shape[0]*shape[1], dtype=np.uint8)\n",
    "    for lo, hi in zip(starts, ends):\n",
    "        img[lo:hi] = 1\n",
    "    return img.reshape(shape)\n",
    "\n",
    "# RLE 인코딩 함수\n",
    "def rle_encode(mask):\n",
    "    pixels = mask.flatten()\n",
    "    pixels = np.concatenate([[0], pixels, [0]])\n",
    "    runs = np.where(pixels[1:] != pixels[:-1])[0] + 1\n",
    "    runs[1::2] -= runs[::2]\n",
    "    return ' '.join(str(x) for x in runs)"
   ]
  },
  {
   "cell_type": "code",
   "execution_count": 11,
   "metadata": {},
   "outputs": [],
   "source": [
    "class image_mask():\n",
    "    def __init__(self, csv_file, output_folder, idx, img_name, patch_size, stride, point, new_csv):\n",
    "        self.data = pd.read_csv(csv_file)\n",
    "        self.output_folder = output_folder\n",
    "        self.idx = idx\n",
    "        self.img_name = img_name\n",
    "        self.patch_size = patch_size\n",
    "        self.stride = stride\n",
    "        self.point = point\n",
    "        self.new_csv = new_csv\n",
    "        \n",
    "    def start(self):\n",
    "        global count\n",
    "        img_path = self.data.iloc[self.idx, 1]\n",
    "        image = cv2.imread(img_path)\n",
    "        \n",
    "        mask_rle = self.data.iloc[self.idx, 2]\n",
    "        mask = rle_decode(mask_rle, (image.shape[0], image.shape[1]))\n",
    "        \n",
    "        #검증을 위한 분리\n",
    "        for y in range(0, self.point + 1, self.stride):\n",
    "            for x in range(0, self.point + 1, self.stride):\n",
    "                \n",
    "                #이미지, 마스크 자르기\n",
    "                patch_image = image[y:y+self.patch_size, x:x+self.patch_size]\n",
    "                patch_mask = mask[y:y+self.patch_size, x:x+self.patch_size]\n",
    "                \n",
    "                #이미지 파일에 이미지 저장\n",
    "                patch_filename = f\"{self.output_folder}/{self.img_name}{count}.png\"\n",
    "                cv2.imwrite(patch_filename, patch_image)\n",
    "                patch_mask = rle_encode(patch_mask)\n",
    "                \n",
    "                #csv파일에 이미지 이름,이미지 위치,마스크값 저장\n",
    "                if patch_mask == \"\":\n",
    "                    patch_mask = -1\n",
    "\n",
    "                csvwriter = csv.writer(self.new_csv)\n",
    "                csvwriter.writerow([f'{self.img_name}{count}', f'./{self.output_folder}/{self.img_name}{count}.png', patch_mask])\n",
    "                \n",
    "                count+=1    "
   ]
  },
  {
   "cell_type": "code",
   "execution_count": 12,
   "metadata": {},
   "outputs": [
    {
     "name": "stderr",
     "output_type": "stream",
     "text": [
      "100%|██████████| 6426/6426 [1:51:21<00:00,  1.04s/it]\n"
     ]
    }
   ],
   "source": [
    "if __name__ == \"__main__\":\n",
    "    #타일링할 이미지 이름, 위치, mark이 들어간 csv파일\n",
    "    csv_file = \"./train.csv\"\n",
    "    #타일링한 이미지를 넣을 파일\n",
    "    output_folder = \"train_ene\"\n",
    "    #생성될 이름 이름_(0부터 csv파일 길이 끝까지 숫자로 작됨)\n",
    "    img_name = \"TRAIN_endT_\"\n",
    "    #생성할 csv이름\n",
    "    csv_name = \"train_end\"\n",
    "    #이미지 가로,세로 크기 정하기\n",
    "    patch_size=256\n",
    "    #stride 픽셀만큼 움직임\n",
    "    stride = 192\n",
    "    #point 픽셀까지 움직임\n",
    "    point = 768\n",
    "    \n",
    "    global count\n",
    "    count = 0\n",
    "    idx = 0\n",
    "    csv_len = pd.read_csv(csv_file)\n",
    "    new_csv = open(f'{csv_name}.csv', 'w', newline='')\n",
    "    csvwriter = csv.writer(new_csv)\n",
    "    csvwriter.writerow(['img_id', 'img_path', 'mask_rle'])\n",
    "    \n",
    "    if not os.path.exists(output_folder):\n",
    "        os.makedirs(output_folder)\n",
    "    \n",
    "    for idx in tqdm(range(len(csv_len))):\n",
    "        image_mask_instance = image_mask(csv_file, output_folder, idx, img_name, patch_size, stride, point, new_csv)\n",
    "        image_mask_instance.start()\n",
    "    \n",
    "    new_csv.close()"
   ]
  }
 ],
 "metadata": {
  "kernelspec": {
   "display_name": "Python 3",
   "language": "python",
   "name": "python3"
  },
  "language_info": {
   "codemirror_mode": {
    "name": "ipython",
    "version": 3
   },
   "file_extension": ".py",
   "mimetype": "text/x-python",
   "name": "python",
   "nbconvert_exporter": "python",
   "pygments_lexer": "ipython3",
   "version": "3.9.13"
  },
  "orig_nbformat": 4
 },
 "nbformat": 4,
 "nbformat_minor": 2
}
