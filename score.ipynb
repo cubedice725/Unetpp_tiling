{
 "cells": [
  {
   "cell_type": "code",
   "execution_count": null,
   "metadata": {},
   "outputs": [],
   "source": [
    "import os\n",
    "import cv2\n",
    "import pandas as pd\n",
    "import numpy as np\n",
    "\n",
    "import torch\n",
    "import matplotlib.pyplot as plt\n",
    "\n",
    "np.set_printoptions(threshold=np.inf, linewidth=np.inf)"
   ]
  },
  {
   "cell_type": "code",
   "execution_count": null,
   "metadata": {},
   "outputs": [],
   "source": [
    "# RLE 인코딩 함수\n",
    "def rle_decode(mask_rle, shape):\n",
    "    s = mask_rle.split()\n",
    "    starts, lengths = [np.asarray(x, dtype=int) for x in (s[0:][::2], s[1:][::2])]\n",
    "    starts -= 1\n",
    "    ends = starts + lengths\n",
    "    img = np.zeros(shape[0]*shape[1], dtype=np.uint8)\n",
    "    for lo, hi in zip(starts, ends):\n",
    "        img[lo:hi] = 1\n",
    "    return img.reshape(shape)"
   ]
  },
  {
   "cell_type": "code",
   "execution_count": null,
   "metadata": {},
   "outputs": [],
   "source": [
    "class score:\n",
    "    def __init__(self,  answer_csv_file, result_csv_file, idx):\n",
    "        self.answer = pd.read_csv(answer_csv_file)\n",
    "        self.result = pd.read_csv(result_csv_file)\n",
    "        self.idx = idx\n",
    "        self.count = 0\n",
    "\n",
    "    def img_csv(self):\n",
    "        img_path = self.answer.iloc[self.idx, 1]\n",
    "        image = cv2.imread(img_path)\n",
    "\n",
    "        result = self.result.iloc[self.idx, 1]\n",
    "        result_mask = rle_decode(result, (image.shape[0], image.shape[1]))\n",
    "\n",
    "        answer = self.answer.iloc[self.idx, 2]\n",
    "        answer_mask = rle_decode(answer, (image.shape[0], image.shape[1]))\n",
    "\n",
    "        flattened_result_mask = result_mask.flatten()\n",
    "        flattened_answer_mask = answer_mask.flatten()\n",
    "\n",
    "        for i in range(len(image)*len(image)):\n",
    "            if(flattened_result_mask[i] == flattened_answer_mask[i]):\n",
    "                self.count+=1\n",
    "            "
   ]
  },
  {
   "cell_type": "code",
   "execution_count": null,
   "metadata": {},
   "outputs": [],
   "source": [
    "total_count=0\n",
    "answer='./test.csv'\n",
    "result='./submit_1024.csv'\n",
    "size=714\n",
    "for i in range(0, size):\n",
    "    dataset = score(answer, result, i)\n",
    "    dataset.img_csv()\n",
    "    total_count+=dataset.count\n",
    "\n",
    "image_len = pd.read_csv(answer)\n",
    "img_path = image_len.iloc[0, 1]\n",
    "image = cv2.imread(img_path)\n",
    "total_score = total_count / ((len(image)*len(image))*size)    "
   ]
  }
 ],
 "metadata": {
  "kernelspec": {
   "display_name": "Python 3",
   "language": "python",
   "name": "python3"
  },
  "language_info": {
   "codemirror_mode": {
    "name": "ipython",
    "version": 3
   },
   "file_extension": ".py",
   "mimetype": "text/x-python",
   "name": "python",
   "nbconvert_exporter": "python",
   "pygments_lexer": "ipython3",
   "version": "3.9.13"
  },
  "orig_nbformat": 4
 },
 "nbformat": 4,
 "nbformat_minor": 2
}
